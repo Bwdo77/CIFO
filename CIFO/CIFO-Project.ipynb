{
 "cells": [
  {
   "cell_type": "markdown",
   "metadata": {},
   "source": [
    "## CIFO Project"
   ]
  },
  {
   "cell_type": "markdown",
   "metadata": {},
   "source": [
    "### Imports"
   ]
  },
  {
   "cell_type": "code",
   "execution_count": 1,
   "metadata": {},
   "outputs": [],
   "source": [
    "#pip install opencv-python"
   ]
  },
  {
   "cell_type": "code",
   "execution_count": 2,
   "metadata": {},
   "outputs": [],
   "source": [
    "import cv2\n",
    "import matplotlib.image as mpimg\n",
    "import matplotlib.pyplot as plt\n",
    "import math\n",
    "import random\n",
    "import pandas as pd"
   ]
  },
  {
   "cell_type": "markdown",
   "metadata": {},
   "source": [
    "### Download Image"
   ]
  },
  {
   "cell_type": "code",
   "execution_count": 3,
   "metadata": {},
   "outputs": [
    {
     "data": {
      "text/plain": [
       "<matplotlib.image.AxesImage at 0x23634ef5410>"
      ]
     },
     "execution_count": 3,
     "metadata": {},
     "output_type": "execute_result"
    },
    {
     "data": {
      "image/png": "[encoded data removed]",
      "text/plain": [
       "<Figure size 640x480 with 1 Axes>"
      ]
     },
     "metadata": {},
     "output_type": "display_data"
    }
   ],
   "source": [
    "image = mpimg.imread('Pikachu.png')\n",
    "plt.imshow(image)"
   ]
  },
  {
   "cell_type": "code",
   "execution_count": 4,
   "metadata": {},
   "outputs": [
    {
     "data": {
      "text/plain": [
       "(20, 20, 4)"
      ]
     },
     "execution_count": 4,
     "metadata": {},
     "output_type": "execute_result"
    }
   ],
   "source": [
    "image.shape"
   ]
  },
  {
   "cell_type": "markdown",
   "metadata": {},
   "source": [
    "We hava an image with the following properties:\n",
    "\n",
    "- 20 pixels of heigth\n",
    "- 20 pixels of width"
   ]
  },
  {
   "cell_type": "markdown",
   "metadata": {},
   "source": [
    "We will now get the RGB matrix of our image, since cv2 uses BGR instead, we will need to make a transformation on the matrix "
   ]
  },
  {
   "cell_type": "code",
   "execution_count": 5,
   "metadata": {},
   "outputs": [],
   "source": [
    "pixelGrid = cv2.imread('Pikachu.png')\n",
    "pixelGrid = cv2.cvtColor(pixelGrid, cv2.COLOR_BGR2RGB)"
   ]
  },
  {
   "cell_type": "markdown",
   "metadata": {},
   "source": [
    "Let's check the first row of our pixel grid"
   ]
  },
  {
   "cell_type": "code",
   "execution_count": 6,
   "metadata": {},
   "outputs": [
    {
     "data": {
      "text/plain": [
       "array([[255, 255, 255],\n",
       "       [255, 255, 255],\n",
       "       [255, 255, 255],\n",
       "       [255, 255, 255],\n",
       "       [255, 255, 255],\n",
       "       [255, 255, 255],\n",
       "       [  0,   0,   0],\n",
       "       [  0,   0,   0],\n",
       "       [255, 255, 255],\n",
       "       [255, 255, 255],\n",
       "       [255, 255, 255],\n",
       "       [255, 255, 255],\n",
       "       [255, 255, 255],\n",
       "       [255, 255, 255],\n",
       "       [255, 255, 255],\n",
       "       [255, 255, 255],\n",
       "       [255, 255, 255],\n",
       "       [  0,   0,   0],\n",
       "       [255, 255, 255],\n",
       "       [255, 255, 255]], dtype=uint8)"
      ]
     },
     "execution_count": 6,
     "metadata": {},
     "output_type": "execute_result"
    }
   ],
   "source": [
    "pixelGrid[0]"
   ]
  },
  {
   "cell_type": "markdown",
   "metadata": {},
   "source": [
    "We can see that we have:\n",
    "- 6 white pixels\n",
    "- 2 black pixels\n",
    "- 9 white pixels\n",
    "- 1 black pixel\n",
    "- 2 white piexels\n",
    "\n",
    "Resulting in a total of 20 pixels per row and 400 total pixels"
   ]
  },
  {
   "cell_type": "markdown",
   "metadata": {},
   "source": [
    "For a matter of simplicity, we will create a function to retrieve the grid of any image"
   ]
  },
  {
   "cell_type": "code",
   "execution_count": 7,
   "metadata": {},
   "outputs": [],
   "source": [
    "def getOriginalGrid(img):\n",
    "    pixelGrid = cv2.imread(img)\n",
    "    pixelGrid = cv2.cvtColor(pixelGrid, cv2.COLOR_BGR2RGB)\n",
    "    return pixelGrid"
   ]
  },
  {
   "cell_type": "code",
   "execution_count": 8,
   "metadata": {},
   "outputs": [
    {
     "data": {
      "text/plain": [
       "array([[[255, 255, 255],\n",
       "        [255, 255, 255],\n",
       "        [255, 255, 255],\n",
       "        ...,\n",
       "        [  0,   0,   0],\n",
       "        [255, 255, 255],\n",
       "        [255, 255, 255]],\n",
       "\n",
       "       [[255, 255, 255],\n",
       "        [255, 255, 255],\n",
       "        [255, 255, 255],\n",
       "        ...,\n",
       "        [255, 221,   0],\n",
       "        [  0,   0,   0],\n",
       "        [255, 255, 255]],\n",
       "\n",
       "       [[255, 255, 255],\n",
       "        [255, 255, 255],\n",
       "        [255, 255, 255],\n",
       "        ...,\n",
       "        [240, 206,  12],\n",
       "        [240, 206,  12],\n",
       "        [  0,   0,   0]],\n",
       "\n",
       "       ...,\n",
       "\n",
       "       [[255, 255, 255],\n",
       "        [255, 255, 255],\n",
       "        [255, 255, 255],\n",
       "        ...,\n",
       "        [255, 255, 255],\n",
       "        [255, 255, 255],\n",
       "        [255, 255, 255]],\n",
       "\n",
       "       [[255, 255, 255],\n",
       "        [255, 255, 255],\n",
       "        [255, 255, 255],\n",
       "        ...,\n",
       "        [255, 255, 255],\n",
       "        [255, 255, 255],\n",
       "        [255, 255, 255]],\n",
       "\n",
       "       [[255, 255, 255],\n",
       "        [255, 255, 255],\n",
       "        [255, 255, 255],\n",
       "        ...,\n",
       "        [255, 255, 255],\n",
       "        [255, 255, 255],\n",
       "        [255, 255, 255]]], dtype=uint8)"
      ]
     },
     "execution_count": 8,
     "metadata": {},
     "output_type": "execute_result"
    }
   ],
   "source": [
    "getOriginalGrid('Pikachu.png')"
   ]
  },
  {
   "cell_type": "markdown",
   "metadata": {},
   "source": [
    "## Initial Population"
   ]
  },
  {
   "cell_type": "markdown",
   "metadata": {},
   "source": [
    "Our search space is huge, if we imagine that we have 256 * 256 * 256 = 16 777 216 different combinations of pixels * 400 pixels in our image, our search space as a total of 6 710 886 400 different solutions."
   ]
  },
  {
   "cell_type": "markdown",
   "metadata": {},
   "source": [
    "Therefore our initial population will be a random plausible solution."
   ]
  },
  {
   "cell_type": "code",
   "execution_count": 9,
   "metadata": {},
   "outputs": [],
   "source": [
    "def initialPopulation(img, size):\n",
    "\n",
    "    population = []\n",
    "\n",
    "    for i in range(size):\n",
    "        element = getOriginalGrid(img).copy()\n",
    "        for row in range(len(element)):\n",
    "            for column in range(len(element[0])):\n",
    "                for value in range(len(element[0][0])):\n",
    "                    element[row][column][value] = random.randint(0, 255)\n",
    "        population.append(element)\n",
    "\n",
    "    return population"
   ]
  },
  {
   "cell_type": "code",
   "execution_count": 10,
   "metadata": {},
   "outputs": [],
   "source": [
    "population = initialPopulation('Pikachu.png', 5)"
   ]
  },
  {
   "cell_type": "code",
   "execution_count": 11,
   "metadata": {},
   "outputs": [
    {
     "data": {
      "text/plain": [
       "<matplotlib.image.AxesImage at 0x23638f4ca50>"
      ]
     },
     "execution_count": 11,
     "metadata": {},
     "output_type": "execute_result"
    },
    {
     "data": {
      "image/png": "[encoded data removed]",
      "text/plain": [
       "<Figure size 640x480 with 1 Axes>"
      ]
     },
     "metadata": {},
     "output_type": "display_data"
    }
   ],
   "source": [
    "plt.imshow(population[0])"
   ]
  },
  {
   "cell_type": "code",
   "execution_count": 12,
   "metadata": {},
   "outputs": [
    {
     "data": {
      "text/plain": [
       "<matplotlib.image.AxesImage at 0x23636e04650>"
      ]
     },
     "execution_count": 12,
     "metadata": {},
     "output_type": "execute_result"
    },
    {
     "data": {
      "image/png": "[encoded data removed]",
      "text/plain": [
       "<Figure size 640x480 with 1 Axes>"
      ]
     },
     "metadata": {},
     "output_type": "display_data"
    }
   ],
   "source": [
    "plt.imshow(population[1])"
   ]
  },
  {
   "cell_type": "markdown",
   "metadata": {},
   "source": [
    "## Fitness Function"
   ]
  },
  {
   "cell_type": "markdown",
   "metadata": {},
   "source": [
    "### Euclidean Distance"
   ]
  },
  {
   "cell_type": "code",
   "execution_count": 13,
   "metadata": {},
   "outputs": [],
   "source": [
    "def getPixelFitnessEuclidean(pixel, target):\n",
    "    return math.sqrt((int(pixel[0])- int(target[0]))**2 + (int(pixel[1]) - int(target[1]))**2 + (int(pixel[2]) - int(target[2]))**2)"
   ]
  },
  {
   "cell_type": "code",
   "execution_count": 14,
   "metadata": {},
   "outputs": [
    {
     "data": {
      "text/plain": [
       "62.52199612936234"
      ]
     },
     "execution_count": 14,
     "metadata": {},
     "output_type": "execute_result"
    }
   ],
   "source": [
    "getPixelFitnessEuclidean([123, 54, 234], [130, 2, 200])"
   ]
  },
  {
   "cell_type": "code",
   "execution_count": 15,
   "metadata": {},
   "outputs": [
    {
     "data": {
      "text/plain": [
       "0.0"
      ]
     },
     "execution_count": 15,
     "metadata": {},
     "output_type": "execute_result"
    }
   ],
   "source": [
    "getPixelFitnessEuclidean([0, 0, 0], [0, 0, 0])"
   ]
  },
  {
   "cell_type": "markdown",
   "metadata": {},
   "source": [
    "### Squared Euclidean Distance"
   ]
  },
  {
   "cell_type": "code",
   "execution_count": 16,
   "metadata": {},
   "outputs": [],
   "source": [
    "def getPixelFitnessSquaredEuclidean(pixel, target):\n",
    "    return math.sqrt((int(pixel[0])- int(target[0]))**2 + (int(pixel[1]) - int(target[1]))**2 + (int(pixel[2]) - int(target[2]))**2)**2"
   ]
  },
  {
   "cell_type": "code",
   "execution_count": 17,
   "metadata": {},
   "outputs": [
    {
     "data": {
      "text/plain": [
       "3908.9999999999995"
      ]
     },
     "execution_count": 17,
     "metadata": {},
     "output_type": "execute_result"
    }
   ],
   "source": [
    "getPixelFitnessSquaredEuclidean([123, 54, 234], [130, 2, 200])"
   ]
  },
  {
   "cell_type": "code",
   "execution_count": 18,
   "metadata": {},
   "outputs": [
    {
     "data": {
      "text/plain": [
       "0.0"
      ]
     },
     "execution_count": 18,
     "metadata": {},
     "output_type": "execute_result"
    }
   ],
   "source": [
    "getPixelFitnessSquaredEuclidean([0, 0, 0], [0, 0, 0])"
   ]
  },
  {
   "cell_type": "markdown",
   "metadata": {},
   "source": [
    "### Manhattan Distance"
   ]
  },
  {
   "cell_type": "code",
   "execution_count": 19,
   "metadata": {},
   "outputs": [],
   "source": [
    "def getPixelFitnessManhattan(pixel, target):\n",
    "    return abs(int(pixel[0]) - int(target[0])) + abs(int(pixel[1]) - int(target[1])) + abs(int(pixel[2]) - int(target[2]))"
   ]
  },
  {
   "cell_type": "code",
   "execution_count": 20,
   "metadata": {},
   "outputs": [
    {
     "data": {
      "text/plain": [
       "93"
      ]
     },
     "execution_count": 20,
     "metadata": {},
     "output_type": "execute_result"
    }
   ],
   "source": [
    "getPixelFitnessManhattan([123, 54, 234], [130, 2, 200])"
   ]
  },
  {
   "cell_type": "code",
   "execution_count": 21,
   "metadata": {},
   "outputs": [
    {
     "data": {
      "text/plain": [
       "0"
      ]
     },
     "execution_count": 21,
     "metadata": {},
     "output_type": "execute_result"
    }
   ],
   "source": [
    "getPixelFitnessManhattan([0, 0, 0], [0, 0, 0])"
   ]
  },
  {
   "cell_type": "markdown",
   "metadata": {},
   "source": [
    "### Squared Manhattan Distance"
   ]
  },
  {
   "cell_type": "code",
   "execution_count": 22,
   "metadata": {},
   "outputs": [],
   "source": [
    "def getPixelFitnessSquaredManhattan(pixel, target):\n",
    "    return abs(int(pixel[0]) - int(target[0])) + abs(int(pixel[1]) - int(target[1])) + abs(int(pixel[2]) - int(target[2]))**2"
   ]
  },
  {
   "cell_type": "code",
   "execution_count": 23,
   "metadata": {},
   "outputs": [
    {
     "data": {
      "text/plain": [
       "1215"
      ]
     },
     "execution_count": 23,
     "metadata": {},
     "output_type": "execute_result"
    }
   ],
   "source": [
    "getPixelFitnessSquaredManhattan([123, 54, 234], [130, 2, 200])"
   ]
  },
  {
   "cell_type": "code",
   "execution_count": 24,
   "metadata": {},
   "outputs": [
    {
     "data": {
      "text/plain": [
       "0"
      ]
     },
     "execution_count": 24,
     "metadata": {},
     "output_type": "execute_result"
    }
   ],
   "source": [
    "getPixelFitnessSquaredManhattan([0, 0, 0], [0, 0, 0])"
   ]
  },
  {
   "cell_type": "markdown",
   "metadata": {},
   "source": [
    "### Total Fitness"
   ]
  },
  {
   "cell_type": "code",
   "execution_count": 25,
   "metadata": {},
   "outputs": [],
   "source": [
    "def getFitness(element, original, fitnessFunction):\n",
    "\n",
    "    totalFitness = 0\n",
    "\n",
    "    for row in range(len(element)):\n",
    "        for column in range(len(element[0])):\n",
    "            totalFitness = totalFitness + fitnessFunction(element[row][column], original[row][column])\n",
    "    \n",
    "    return totalFitness"
   ]
  },
  {
   "cell_type": "code",
   "execution_count": 26,
   "metadata": {},
   "outputs": [
    {
     "data": {
      "text/plain": [
       "94607.37501075547"
      ]
     },
     "execution_count": 26,
     "metadata": {},
     "output_type": "execute_result"
    }
   ],
   "source": [
    "getFitness(population[0], pixelGrid, getPixelFitnessEuclidean)"
   ]
  },
  {
   "cell_type": "code",
   "execution_count": 27,
   "metadata": {},
   "outputs": [
    {
     "data": {
      "text/plain": [
       "24527769.0"
      ]
     },
     "execution_count": 27,
     "metadata": {},
     "output_type": "execute_result"
    }
   ],
   "source": [
    "getFitness(population[0], pixelGrid, getPixelFitnessSquaredEuclidean)"
   ]
  },
  {
   "cell_type": "code",
   "execution_count": 28,
   "metadata": {},
   "outputs": [
    {
     "data": {
      "text/plain": [
       "146745"
      ]
     },
     "execution_count": 28,
     "metadata": {},
     "output_type": "execute_result"
    }
   ],
   "source": [
    "getFitness(population[0], pixelGrid, getPixelFitnessManhattan)"
   ]
  },
  {
   "cell_type": "code",
   "execution_count": 29,
   "metadata": {},
   "outputs": [
    {
     "data": {
      "text/plain": [
       "8220281"
      ]
     },
     "execution_count": 29,
     "metadata": {},
     "output_type": "execute_result"
    }
   ],
   "source": [
    "getFitness(population[0], pixelGrid, getPixelFitnessSquaredManhattan)"
   ]
  },
  {
   "cell_type": "markdown",
   "metadata": {},
   "source": [
    "## Crossover"
   ]
  },
  {
   "cell_type": "markdown",
   "metadata": {},
   "source": [
    "### Half-Change Crossover"
   ]
  },
  {
   "cell_type": "code",
   "execution_count": 30,
   "metadata": {},
   "outputs": [],
   "source": [
    "def halfChangeCrossover(pixel1, pixel2, crossoverProb = 0.8):\n",
    "\n",
    "    if random.random() <= crossoverProb:\n",
    "        R_index = random.randint(1, 100)\n",
    "        G_index = random.randint(1, 100)\n",
    "        B_index = random.randint(1, 100)\n",
    "\n",
    "        if R_index <= 50:\n",
    "            temp = pixel1[0]\n",
    "            pixel1[0] = pixel2[0]\n",
    "            pixel2[0] = temp\n",
    "\n",
    "        if G_index <= 50:\n",
    "            temp = pixel1[1]\n",
    "            pixel1[1] = pixel2[1]\n",
    "            pixel2[1] = temp\n",
    "\n",
    "        if B_index <= 50:\n",
    "            temp = pixel1[2]\n",
    "            pixel1[2] = pixel2[2]\n",
    "            pixel2[2] = temp\n",
    "   \n",
    "    return pixel1, pixel2"
   ]
  },
  {
   "cell_type": "code",
   "execution_count": 31,
   "metadata": {},
   "outputs": [
    {
     "data": {
      "text/plain": [
       "([4, 5, 6], [1, 2, 3])"
      ]
     },
     "execution_count": 31,
     "metadata": {},
     "output_type": "execute_result"
    }
   ],
   "source": [
    "halfChangeCrossover([1,2,3], [4,5,6])"
   ]
  },
  {
   "cell_type": "markdown",
   "metadata": {},
   "source": [
    "### Single-Point Crossover"
   ]
  },
  {
   "cell_type": "code",
   "execution_count": 32,
   "metadata": {},
   "outputs": [],
   "source": [
    "def singlePointCrossover(pixel1, pixel2, crossoverProb=0.8):\n",
    "    if random.random() < crossoverProb:\n",
    "        crossoverPoint = random.randint(1, 2)\n",
    "        \n",
    "        if crossoverPoint == 1:\n",
    "            temp = pixel1[1]\n",
    "            pixel1[1] = pixel2[1]\n",
    "            pixel2[1] = temp\n",
    "\n",
    "        temp = pixel1[2]\n",
    "        pixel1[2] = pixel2[2]\n",
    "        pixel2[2] = temp\n",
    "\n",
    "    return pixel1, pixel2"
   ]
  },
  {
   "cell_type": "code",
   "execution_count": 33,
   "metadata": {},
   "outputs": [
    {
     "data": {
      "text/plain": [
       "([1, 2, 3], [4, 5, 6])"
      ]
     },
     "execution_count": 33,
     "metadata": {},
     "output_type": "execute_result"
    }
   ],
   "source": [
    "singlePointCrossover([1,2,3], [4,5,6])"
   ]
  },
  {
   "cell_type": "markdown",
   "metadata": {},
   "source": [
    "### Arithmetic Crossover"
   ]
  },
  {
   "cell_type": "code",
   "execution_count": 34,
   "metadata": {},
   "outputs": [],
   "source": [
    "def arithmeticCrossover(pixel1, pixel2, alpha=0.5, crossoverProb=0.8):\n",
    "\n",
    "    if random.random() <= crossoverProb:\n",
    "        pixel1, pixel2 = [round(alpha * pixel1[0] + (1 - alpha) * pixel2[0]), round(alpha * pixel1[1] + (1 - alpha) * pixel2[1]), round(alpha * pixel1[2] + (1 - alpha) * pixel2[2])], [round((1 - alpha) * pixel1[0] + alpha * pixel2[0]), round((1 - alpha) * pixel1[1] + alpha * pixel2[1]), round((1 - alpha) * pixel1[2] + alpha * pixel2[2])]\n",
    "    \n",
    "    return pixel1, pixel2"
   ]
  },
  {
   "cell_type": "code",
   "execution_count": 35,
   "metadata": {},
   "outputs": [
    {
     "data": {
      "text/plain": [
       "([1, 2, 3], [4, 5, 6])"
      ]
     },
     "execution_count": 35,
     "metadata": {},
     "output_type": "execute_result"
    }
   ],
   "source": [
    "arithmeticCrossover([1,2,3], [4,5,6])"
   ]
  },
  {
   "cell_type": "code",
   "execution_count": 36,
   "metadata": {},
   "outputs": [
    {
     "data": {
      "text/plain": [
       "([2, 3, 4], [3, 4, 5])"
      ]
     },
     "execution_count": 36,
     "metadata": {},
     "output_type": "execute_result"
    }
   ],
   "source": [
    "arithmeticCrossover([1,2,3], [4,5,6], 0.7)"
   ]
  },
  {
   "cell_type": "markdown",
   "metadata": {},
   "source": [
    "Higher alpha would mean that offspring are closer to pixel1"
   ]
  },
  {
   "cell_type": "markdown",
   "metadata": {},
   "source": [
    "## Mutation"
   ]
  },
  {
   "cell_type": "markdown",
   "metadata": {},
   "source": [
    "### Uniform Mutation"
   ]
  },
  {
   "cell_type": "code",
   "execution_count": 37,
   "metadata": {},
   "outputs": [],
   "source": [
    "def uniformMutation(pixel, mutationProb=0.05):\n",
    "\n",
    "    if random.random() <= mutationProb:\n",
    "        for i in range(len(pixel)):\n",
    "            pixel[i] = random.randint(0, 255)\n",
    "\n",
    "    return pixel"
   ]
  },
  {
   "cell_type": "code",
   "execution_count": 38,
   "metadata": {},
   "outputs": [
    {
     "data": {
      "text/plain": [
       "[1, 2, 3]"
      ]
     },
     "execution_count": 38,
     "metadata": {},
     "output_type": "execute_result"
    }
   ],
   "source": [
    "uniformMutation([1,2,3])"
   ]
  },
  {
   "cell_type": "markdown",
   "metadata": {},
   "source": [
    "### Shuffle Mutation"
   ]
  },
  {
   "cell_type": "code",
   "execution_count": 39,
   "metadata": {},
   "outputs": [],
   "source": [
    "def shuffleMutation(pixel, mutationProb=0.05):\n",
    "\n",
    "    shuffledPixel = pixel[:]\n",
    "\n",
    "    if random.random() <= mutationProb:\n",
    "        random.shuffle(shuffledPixel)\n",
    "    return shuffledPixel"
   ]
  },
  {
   "cell_type": "code",
   "execution_count": 40,
   "metadata": {},
   "outputs": [
    {
     "data": {
      "text/plain": [
       "[1, 2, 3]"
      ]
     },
     "execution_count": 40,
     "metadata": {},
     "output_type": "execute_result"
    }
   ],
   "source": [
    "shuffleMutation([1,2,3])"
   ]
  },
  {
   "cell_type": "markdown",
   "metadata": {},
   "source": [
    "## Seletion"
   ]
  },
  {
   "cell_type": "markdown",
   "metadata": {},
   "source": [
    "### Roulette Selection"
   ]
  },
  {
   "cell_type": "code",
   "execution_count": 41,
   "metadata": {},
   "outputs": [],
   "source": [
    "import numpy.random as npr\n",
    "def rouletteSelection(population, original, getFitness, function):\n",
    "    \n",
    "    totalFitnesses = sum([getFitness(element, original, function) for element in population])\n",
    "\n",
    "    selectionProbs = [1 - getFitness(element, original, function)/totalFitnesses for element in population]\n",
    "\n",
    "    selectionProbs = [prob / sum(selectionProbs) for prob in selectionProbs]\n",
    "\n",
    "    newPopulation = []\n",
    "\n",
    "    for _ in range(len(population)):\n",
    "        newPopulation.append(population[npr.choice(len(population), p=selectionProbs)])\n",
    "\n",
    "    return newPopulation"
   ]
  },
  {
   "cell_type": "code",
   "execution_count": 42,
   "metadata": {},
   "outputs": [
    {
     "name": "stdout",
     "output_type": "stream",
     "text": [
      "94607.37501075547\n",
      "95391.40455304361\n",
      "94192.63785088803\n",
      "94241.62942059762\n",
      "94617.70581838116\n"
     ]
    }
   ],
   "source": [
    "for element in population:\n",
    "    print(getFitness(element, pixelGrid, getPixelFitnessEuclidean))"
   ]
  },
  {
   "cell_type": "code",
   "execution_count": 43,
   "metadata": {},
   "outputs": [
    {
     "name": "stdout",
     "output_type": "stream",
     "text": [
      "94617.70581838116\n",
      "94241.62942059762\n",
      "94241.62942059762\n",
      "94241.62942059762\n",
      "94241.62942059762\n"
     ]
    }
   ],
   "source": [
    "newPopulation = rouletteSelection(population, pixelGrid, getFitness, getPixelFitnessEuclidean)\n",
    "\n",
    "for element in newPopulation:\n",
    "    print(getFitness(element, pixelGrid, getPixelFitnessEuclidean))"
   ]
  },
  {
   "cell_type": "markdown",
   "metadata": {},
   "source": [
    "### Rank Selection"
   ]
  },
  {
   "cell_type": "code",
   "execution_count": 44,
   "metadata": {},
   "outputs": [],
   "source": [
    "def rankSelection(population, original, getFitness, function):\n",
    "    \n",
    "    fitnesses = [getFitness(element, original, function) for element in population]\n",
    "\n",
    "    for i in range(len(fitnesses)):\n",
    "        fitnesses[fitnesses.index(max(fitnesses))] = i + 1\n",
    "\n",
    "    selectionProbs = [rank / sum(fitnesses) for rank in fitnesses]\n",
    "\n",
    "    newPopulation = []\n",
    "\n",
    "    for _ in range(len(population)):\n",
    "        newPopulation.append(population[npr.choice(len(population), p=selectionProbs)])\n",
    "\n",
    "    return newPopulation"
   ]
  },
  {
   "cell_type": "code",
   "execution_count": 45,
   "metadata": {},
   "outputs": [
    {
     "name": "stdout",
     "output_type": "stream",
     "text": [
      "94607.37501075547\n",
      "95391.40455304361\n",
      "94192.63785088803\n",
      "94241.62942059762\n",
      "94617.70581838116\n"
     ]
    }
   ],
   "source": [
    "for element in population:\n",
    "    print(getFitness(element, pixelGrid, getPixelFitnessEuclidean))"
   ]
  },
  {
   "cell_type": "code",
   "execution_count": 46,
   "metadata": {},
   "outputs": [
    {
     "name": "stdout",
     "output_type": "stream",
     "text": [
      "94241.62942059762\n",
      "94241.62942059762\n",
      "94241.62942059762\n",
      "94241.62942059762\n",
      "94192.63785088803\n"
     ]
    }
   ],
   "source": [
    "newPopulation = rankSelection(population, pixelGrid, getFitness, getPixelFitnessEuclidean)\n",
    "\n",
    "for element in newPopulation:\n",
    "    print(getFitness(element, pixelGrid, getPixelFitnessEuclidean))"
   ]
  },
  {
   "cell_type": "markdown",
   "metadata": {},
   "source": [
    "### Tournament Selection"
   ]
  },
  {
   "cell_type": "code",
   "execution_count": 54,
   "metadata": {},
   "outputs": [],
   "source": [
    "def tournamentSelection(population, original, getFitness, function, size=20):\n",
    "\n",
    "    newPopulation = []\n",
    "\n",
    "    for _ in range(len(population)):\n",
    "\n",
    "        tournament = []\n",
    "\n",
    "        for _ in range(size):\n",
    "            tournament.append(population[random.randint(0, len(population)-1)])\n",
    "\n",
    "        tournamentFitnesses = [getFitness(element, original, function) for element in tournament]\n",
    "\n",
    "        newPopulation.append(tournament[tournamentFitnesses.index(min(tournamentFitnesses))])\n",
    "\n",
    "    return newPopulation"
   ]
  },
  {
   "cell_type": "code",
   "execution_count": 48,
   "metadata": {},
   "outputs": [
    {
     "name": "stdout",
     "output_type": "stream",
     "text": [
      "94607.37501075547\n",
      "95391.40455304361\n",
      "94192.63785088803\n",
      "94241.62942059762\n",
      "94617.70581838116\n"
     ]
    }
   ],
   "source": [
    "for element in population:\n",
    "    print(getFitness(element, pixelGrid, getPixelFitnessEuclidean))"
   ]
  },
  {
   "cell_type": "code",
   "execution_count": 49,
   "metadata": {},
   "outputs": [
    {
     "name": "stdout",
     "output_type": "stream",
     "text": [
      "94192.63785088803\n",
      "94192.63785088803\n",
      "94192.63785088803\n",
      "94192.63785088803\n",
      "94192.63785088803\n"
     ]
    }
   ],
   "source": [
    "newPopulation = tournamentSelection(population, pixelGrid, getFitness, getPixelFitnessEuclidean)\n",
    "\n",
    "for element in newPopulation:\n",
    "    print(getFitness(element, pixelGrid, getPixelFitnessEuclidean))"
   ]
  },
  {
   "cell_type": "markdown",
   "metadata": {},
   "source": [
    "## Genetic Algorithm"
   ]
  },
  {
   "cell_type": "code",
   "execution_count": 50,
   "metadata": {},
   "outputs": [],
   "source": [
    "def initialize(img, populationSize):\n",
    "    originalGrid = getOriginalGrid(img)\n",
    "    population = initialPopulation(img, populationSize)\n",
    "    return originalGrid, population"
   ]
  },
  {
   "cell_type": "code",
   "execution_count": 60,
   "metadata": {},
   "outputs": [],
   "source": [
    "def geneticAlgorithm(population, original, fitness, crossover, mutation, selection, numberGenerations=1000, crossoverProb = 0.8, mutationProb = 0.01, elitism=True):\n",
    "    \n",
    "    df = pd.DataFrame(columns=['generation', 'fitness'])\n",
    "    \n",
    "    for generation in range(numberGenerations + 1):\n",
    "\n",
    "        selectedPopulation = selection(population, original, getFitness, fitness)\n",
    "\n",
    "        newPopulation = []\n",
    "\n",
    "        for i in range(0, len(selectedPopulation), 2):\n",
    "            parent1, parent2 = selectedPopulation[i], selectedPopulation[min(i+1, len(selectedPopulation)-1)]\n",
    "            child1, child2 = parent1.copy(), parent2.copy()\n",
    "\n",
    "        for row in range(len(parent1)):\n",
    "            for col in range(len(parent1[0])):\n",
    "                child1[row][col], child2[row][col] = crossover(parent1[row][col], parent2[row][col], crossoverProb=crossoverProb)\n",
    "                child1[row][col] = mutation(child1[row][col], mutationProb=mutationProb)\n",
    "                child2[row][col] = mutation(child2[row][col], mutationProb=mutationProb)\n",
    "        newPopulation.append(child1)\n",
    "        newPopulation.append(child2)\n",
    "\n",
    "        population = newPopulation.copy()\n",
    "\n",
    "        if elitism and generation >  0:\n",
    "            population[fitnesses.index(max(fitnesses))] = bestElement.copy()\n",
    "\n",
    "        fitnesses = [getFitness(element, original, fitness) for element in population]\n",
    "\n",
    "        bestElement = population[fitnesses.index(min(fitnesses))].copy()\n",
    "\n",
    "        if generation % 100 == 0:\n",
    "            print(\"Generation:\", generation)\n",
    "            print(\"Best Fitness:\", fitnesses[fitnesses.index(min(fitnesses))])\n",
    "\n",
    "        df.loc[generation] = [generation, fitnesses[fitnesses.index(min(fitnesses))]]\n",
    "\n",
    "    return bestElement, df"
   ]
  },
  {
   "cell_type": "code",
   "execution_count": 70,
   "metadata": {},
   "outputs": [
    {
     "name": "stdout",
     "output_type": "stream",
     "text": [
      "Generation: 0\n",
      "Best Fitness: 91367.42846758824\n",
      "Generation: 100\n",
      "Best Fitness: 85622.67723767647\n",
      "Generation: 200\n",
      "Best Fitness: 82326.21558016936\n",
      "Generation: 300\n",
      "Best Fitness: 79273.11025060852\n",
      "Generation: 400\n",
      "Best Fitness: 76871.29845850325\n",
      "Generation: 500\n",
      "Best Fitness: 75562.66514463446\n",
      "Generation: 600\n",
      "Best Fitness: 73726.7648291648\n",
      "Generation: 700\n",
      "Best Fitness: 72848.46120026946\n",
      "Generation: 800\n",
      "Best Fitness: 70850.21086778677\n",
      "Generation: 900\n",
      "Best Fitness: 69848.27205733437\n",
      "Generation: 1000\n",
      "Best Fitness: 69031.57866773175\n"
     ]
    },
    {
     "data": {
      "text/plain": [
       "<matplotlib.image.AxesImage at 0x236397a3810>"
      ]
     },
     "execution_count": 70,
     "metadata": {},
     "output_type": "execute_result"
    },
    {
     "data": {
      "image/png": "[encoded data removed]",
      "text/plain": [
       "<Figure size 640x480 with 1 Axes>"
      ]
     },
     "metadata": {},
     "output_type": "display_data"
    }
   ],
   "source": [
    "Initialization = initialize(\"Pikachu.png\", 50)\n",
    "\n",
    "originalGrid = Initialization[0]\n",
    "population = Initialization[1]\n",
    "\n",
    "GA = geneticAlgorithm(population=population, original=originalGrid, fitness=getPixelFitnessEuclidean, crossover=singlePointCrossover, mutation=uniformMutation, selection=tournamentSelection, numberGenerations=1000)\n",
    "\n",
    "dataframe = GA[1]\n",
    "plt.imshow(GA[0])"
   ]
  },
  {
   "cell_type": "code",
   "execution_count": 62,
   "metadata": {},
   "outputs": [
    {
     "data": {
      "image/png": "[encoded data removed]",
      "text/plain": [
       "<Figure size 800x400 with 1 Axes>"
      ]
     },
     "metadata": {},
     "output_type": "display_data"
    }
   ],
   "source": [
    "# Plot the data\n",
    "plt.figure(figsize=(8, 4))\n",
    "plt.plot(dataframe['generation'], dataframe['fitness'], marker='o')\n",
    "\n",
    "# Add titles and labels\n",
    "plt.title('Evolution Process')\n",
    "plt.xlabel('Generation')\n",
    "plt.ylabel('Fitness')\n",
    "\n",
    "# Show the plot\n",
    "plt.grid(True)\n",
    "plt.show()"
   ]
  },
  {
   "cell_type": "code",
   "execution_count": 66,
   "metadata": {},
   "outputs": [
    {
     "name": "stdout",
     "output_type": "stream",
     "text": [
      "Generation: 0\n",
      "Best Fitness: 90917.60680955542\n",
      "Generation: 100\n",
      "Best Fitness: 86754.08501363042\n",
      "Generation: 200\n",
      "Best Fitness: 83781.81180914618\n",
      "Generation: 300\n",
      "Best Fitness: 80425.79561630049\n",
      "Generation: 400\n",
      "Best Fitness: 77911.7817957177\n",
      "Generation: 500\n",
      "Best Fitness: 76707.68793493217\n",
      "Generation: 600\n",
      "Best Fitness: 74744.19356994942\n",
      "Generation: 700\n",
      "Best Fitness: 73227.18273873771\n",
      "Generation: 800\n",
      "Best Fitness: 71378.0685208678\n",
      "Generation: 900\n",
      "Best Fitness: 70802.38297508762\n",
      "Generation: 1000\n",
      "Best Fitness: 70019.3581532924\n"
     ]
    },
    {
     "data": {
      "text/plain": [
       "<matplotlib.image.AxesImage at 0x2363a88b810>"
      ]
     },
     "execution_count": 66,
     "metadata": {},
     "output_type": "execute_result"
    },
    {
     "data": {
      "image/png": "[encoded data removed]",
      "text/plain": [
       "<Figure size 640x480 with 1 Axes>"
      ]
     },
     "metadata": {},
     "output_type": "display_data"
    }
   ],
   "source": [
    "Initialization = initialize(\"Pikachu.png\", 100)\n",
    "\n",
    "originalGrid = Initialization[0]\n",
    "population = Initialization[1]\n",
    "\n",
    "GA = geneticAlgorithm(population=population, original=originalGrid, fitness=getPixelFitnessEuclidean, crossover=halfChangeCrossover, mutation=uniformMutation, selection=tournamentSelection, numberGenerations=1000)\n",
    "\n",
    "dataframe = GA[1]\n",
    "plt.imshow(GA[0])"
   ]
  },
  {
   "cell_type": "code",
   "execution_count": 67,
   "metadata": {},
   "outputs": [
    {
     "data": {
      "image/png": "[encoded data removed]",
      "text/plain": [
       "<Figure size 800x400 with 1 Axes>"
      ]
     },
     "metadata": {},
     "output_type": "display_data"
    }
   ],
   "source": [
    "# Plot the data\n",
    "plt.figure(figsize=(8, 4))\n",
    "plt.plot(dataframe['generation'], dataframe['fitness'], marker='o')\n",
    "\n",
    "# Add titles and labels\n",
    "plt.title('Evolution Process')\n",
    "plt.xlabel('Generation')\n",
    "plt.ylabel('Fitness')\n",
    "\n",
    "# Show the plot\n",
    "plt.grid(True)\n",
    "plt.show()"
   ]
  },
  {
   "cell_type": "code",
   "execution_count": 64,
   "metadata": {},
   "outputs": [
    {
     "name": "stdout",
     "output_type": "stream",
     "text": [
      "Generation: 0\n",
      "Best Fitness: 86981.82082506258\n",
      "Generation: 100\n",
      "Best Fitness: 83510.96962910313\n",
      "Generation: 200\n",
      "Best Fitness: 81580.86126730847\n",
      "Generation: 300\n",
      "Best Fitness: 77654.55047869019\n",
      "Generation: 400\n",
      "Best Fitness: 75520.73816034358\n",
      "Generation: 500\n",
      "Best Fitness: 74446.27546555107\n",
      "Generation: 600\n",
      "Best Fitness: 73442.02478673916\n",
      "Generation: 700\n",
      "Best Fitness: 72743.76385287789\n",
      "Generation: 800\n",
      "Best Fitness: 71648.45643914446\n",
      "Generation: 900\n",
      "Best Fitness: 70472.56481832646\n",
      "Generation: 1000\n",
      "Best Fitness: 69943.3573375473\n"
     ]
    },
    {
     "data": {
      "text/plain": [
       "<matplotlib.image.AxesImage at 0x2363a87d450>"
      ]
     },
     "execution_count": 64,
     "metadata": {},
     "output_type": "execute_result"
    },
    {
     "data": {
      "image/png": "[encoded data removed]",
      "text/plain": [
       "<Figure size 640x480 with 1 Axes>"
      ]
     },
     "metadata": {},
     "output_type": "display_data"
    }
   ],
   "source": [
    "Initialization = initialize(\"Pikachu.png\", 100)\n",
    "\n",
    "originalGrid = Initialization[0]\n",
    "population = Initialization[1]\n",
    "\n",
    "GA = geneticAlgorithm(population=population, original=originalGrid, fitness=getPixelFitnessEuclidean, crossover=arithmeticCrossover, mutation=uniformMutation, selection=tournamentSelection, numberGenerations=1000)\n",
    "\n",
    "dataframe = GA[1]\n",
    "plt.imshow(GA[0])"
   ]
  },
  {
   "cell_type": "code",
   "execution_count": 65,
   "metadata": {},
   "outputs": [
    {
     "data": {
      "image/png": "[encoded data removed]",
      "text/plain": [
       "<Figure size 800x400 with 1 Axes>"
      ]
     },
     "metadata": {},
     "output_type": "display_data"
    }
   ],
   "source": [
    "# Plot the data\n",
    "plt.figure(figsize=(8, 4))\n",
    "plt.plot(dataframe['generation'], dataframe['fitness'], marker='o')\n",
    "\n",
    "# Add titles and labels\n",
    "plt.title('Evolution Process')\n",
    "plt.xlabel('Generation')\n",
    "plt.ylabel('Fitness')\n",
    "\n",
    "# Show the plot\n",
    "plt.grid(True)\n",
    "plt.show()"
   ]
  },
  {
   "cell_type": "markdown",
   "metadata": {},
   "source": [
    "### Best Model"
   ]
  },
  {
   "cell_type": "code",
   "execution_count": 68,
   "metadata": {},
   "outputs": [
    {
     "name": "stdout",
     "output_type": "stream",
     "text": [
      "Generation: 0\n",
      "Best Fitness: 87889.57825835333\n",
      "Generation: 100\n",
      "Best Fitness: 84885.63719613668\n",
      "Generation: 200\n",
      "Best Fitness: 82450.44486812329\n",
      "Generation: 300\n",
      "Best Fitness: 80443.10017553196\n",
      "Generation: 400\n",
      "Best Fitness: 79150.72386719406\n",
      "Generation: 500\n",
      "Best Fitness: 77267.8557401327\n",
      "Generation: 600\n",
      "Best Fitness: 75863.10362247718\n",
      "Generation: 700\n",
      "Best Fitness: 74578.14328282699\n",
      "Generation: 800\n",
      "Best Fitness: 73364.68768356905\n",
      "Generation: 900\n",
      "Best Fitness: 71587.3517143753\n",
      "Generation: 1000\n",
      "Best Fitness: 70386.34487735595\n",
      "Generation: 1100\n",
      "Best Fitness: 69207.81487441264\n",
      "Generation: 1200\n",
      "Best Fitness: 68405.4281199659\n",
      "Generation: 1300\n",
      "Best Fitness: 67446.51073801436\n",
      "Generation: 1400\n",
      "Best Fitness: 67047.12566501932\n",
      "Generation: 1500\n",
      "Best Fitness: 65898.68303411962\n",
      "Generation: 1600\n",
      "Best Fitness: 65407.82823917141\n",
      "Generation: 1700\n",
      "Best Fitness: 64983.66826725875\n",
      "Generation: 1800\n",
      "Best Fitness: 64286.2917206157\n",
      "Generation: 1900\n",
      "Best Fitness: 63641.5605656525\n",
      "Generation: 2000\n",
      "Best Fitness: 63152.388324842526\n",
      "Generation: 2100\n",
      "Best Fitness: 62742.360488727565\n",
      "Generation: 2200\n",
      "Best Fitness: 62505.81719186319\n",
      "Generation: 2300\n",
      "Best Fitness: 61972.51070218592\n",
      "Generation: 2400\n",
      "Best Fitness: 61837.67988968084\n",
      "Generation: 2500\n",
      "Best Fitness: 61610.920730666636\n",
      "Generation: 2600\n",
      "Best Fitness: 61095.442981097294\n",
      "Generation: 2700\n",
      "Best Fitness: 60721.8156416278\n",
      "Generation: 2800\n",
      "Best Fitness: 60543.167457271236\n",
      "Generation: 2900\n",
      "Best Fitness: 60217.32786824463\n",
      "Generation: 3000\n",
      "Best Fitness: 59916.59083391951\n",
      "Generation: 3100\n",
      "Best Fitness: 59714.1730402259\n",
      "Generation: 3200\n",
      "Best Fitness: 59365.82403566927\n",
      "Generation: 3300\n",
      "Best Fitness: 58934.375599294006\n",
      "Generation: 3400\n",
      "Best Fitness: 58582.26379665081\n",
      "Generation: 3500\n",
      "Best Fitness: 58314.751267287116\n",
      "Generation: 3600\n",
      "Best Fitness: 57846.92474493457\n",
      "Generation: 3700\n",
      "Best Fitness: 57654.586206375345\n",
      "Generation: 3800\n",
      "Best Fitness: 56902.513991449145\n",
      "Generation: 3900\n",
      "Best Fitness: 56499.0699699269\n",
      "Generation: 4000\n",
      "Best Fitness: 56462.59864401237\n",
      "Generation: 4100\n",
      "Best Fitness: 56306.09312842017\n",
      "Generation: 4200\n",
      "Best Fitness: 55983.51138863234\n",
      "Generation: 4300\n",
      "Best Fitness: 55668.98949748914\n",
      "Generation: 4400\n",
      "Best Fitness: 55493.03453128814\n",
      "Generation: 4500\n",
      "Best Fitness: 55005.58224387627\n",
      "Generation: 4600\n",
      "Best Fitness: 54753.44345678486\n",
      "Generation: 4700\n",
      "Best Fitness: 53921.259594281044\n",
      "Generation: 4800\n",
      "Best Fitness: 53470.831958852665\n",
      "Generation: 4900\n",
      "Best Fitness: 53312.18754304518\n",
      "Generation: 5000\n",
      "Best Fitness: 53042.022758299834\n",
      "Generation: 5100\n",
      "Best Fitness: 52806.70441058455\n",
      "Generation: 5200\n",
      "Best Fitness: 52602.54399806222\n",
      "Generation: 5300\n",
      "Best Fitness: 52441.92274502265\n",
      "Generation: 5400\n",
      "Best Fitness: 52176.40414471037\n",
      "Generation: 5500\n",
      "Best Fitness: 52138.73507242203\n",
      "Generation: 5600\n",
      "Best Fitness: 52024.51021806531\n",
      "Generation: 5700\n",
      "Best Fitness: 51847.10511261607\n",
      "Generation: 5800\n",
      "Best Fitness: 51722.78852351809\n",
      "Generation: 5900\n",
      "Best Fitness: 51650.529264884484\n",
      "Generation: 6000\n",
      "Best Fitness: 51625.828692029354\n",
      "Generation: 6100\n",
      "Best Fitness: 51482.966021976965\n",
      "Generation: 6200\n",
      "Best Fitness: 51333.34555552347\n",
      "Generation: 6300\n",
      "Best Fitness: 51333.34555552347\n",
      "Generation: 6400\n",
      "Best Fitness: 51161.659650986076\n",
      "Generation: 6500\n",
      "Best Fitness: 50950.36963667281\n",
      "Generation: 6600\n",
      "Best Fitness: 50923.10292093618\n",
      "Generation: 6700\n",
      "Best Fitness: 50871.81770929294\n",
      "Generation: 6800\n",
      "Best Fitness: 50567.77349802011\n",
      "Generation: 6900\n",
      "Best Fitness: 50430.39576174905\n",
      "Generation: 7000\n",
      "Best Fitness: 50430.39576174905\n",
      "Generation: 7100\n",
      "Best Fitness: 50418.42916931691\n",
      "Generation: 7200\n",
      "Best Fitness: 50418.42916931691\n",
      "Generation: 7300\n",
      "Best Fitness: 50112.07415714834\n",
      "Generation: 7400\n",
      "Best Fitness: 49976.69777637146\n",
      "Generation: 7500\n",
      "Best Fitness: 49738.155818958425\n",
      "Generation: 7600\n",
      "Best Fitness: 49738.155818958425\n",
      "Generation: 7700\n",
      "Best Fitness: 49606.29641172096\n",
      "Generation: 7800\n",
      "Best Fitness: 49550.51985538238\n",
      "Generation: 7900\n",
      "Best Fitness: 49130.27371445168\n",
      "Generation: 8000\n",
      "Best Fitness: 49059.23088229517\n",
      "Generation: 8100\n",
      "Best Fitness: 48942.10481694406\n",
      "Generation: 8200\n",
      "Best Fitness: 48700.28074815297\n",
      "Generation: 8300\n",
      "Best Fitness: 48286.48049221535\n",
      "Generation: 8400\n",
      "Best Fitness: 48286.48049221535\n",
      "Generation: 8500\n",
      "Best Fitness: 48110.89706405269\n",
      "Generation: 8600\n",
      "Best Fitness: 47913.78513516763\n",
      "Generation: 8700\n",
      "Best Fitness: 47913.78513516763\n",
      "Generation: 8800\n",
      "Best Fitness: 47820.17612301186\n",
      "Generation: 8900\n",
      "Best Fitness: 47753.6729775018\n",
      "Generation: 9000\n",
      "Best Fitness: 47540.30441212426\n",
      "Generation: 9100\n",
      "Best Fitness: 47357.612787138765\n",
      "Generation: 9200\n",
      "Best Fitness: 47214.74180669839\n",
      "Generation: 9300\n",
      "Best Fitness: 47161.606633350864\n",
      "Generation: 9400\n",
      "Best Fitness: 47074.76367811796\n",
      "Generation: 9500\n",
      "Best Fitness: 47041.80977872771\n",
      "Generation: 9600\n",
      "Best Fitness: 46982.308089659506\n",
      "Generation: 9700\n",
      "Best Fitness: 46982.308089659506\n",
      "Generation: 9800\n",
      "Best Fitness: 46982.308089659506\n",
      "Generation: 9900\n",
      "Best Fitness: 46795.80868437363\n",
      "Generation: 10000\n",
      "Best Fitness: 46705.63434507884\n"
     ]
    },
    {
     "data": {
      "text/plain": [
       "<matplotlib.image.AxesImage at 0x236397adf10>"
      ]
     },
     "execution_count": 68,
     "metadata": {},
     "output_type": "execute_result"
    },
    {
     "data": {
      "image/png": "[encoded data removed]",
      "text/plain": [
       "<Figure size 640x480 with 1 Axes>"
      ]
     },
     "metadata": {},
     "output_type": "display_data"
    }
   ],
   "source": [
    "Initialization = initialize(\"Pikachu.png\", 100)\n",
    "\n",
    "originalGrid = Initialization[0]\n",
    "population = Initialization[1]\n",
    "\n",
    "GA = geneticAlgorithm(population=population, original=originalGrid, fitness=getPixelFitnessEuclidean, crossover=arithmeticCrossover, mutation=uniformMutation, selection=tournamentSelection, numberGenerations=10000)\n",
    "\n",
    "dataframe = GA[1]\n",
    "plt.imshow(GA[0])"
   ]
  },
  {
   "cell_type": "code",
   "execution_count": 69,
   "metadata": {},
   "outputs": [
    {
     "data": {
      "image/png": "[encoded data removed]",
      "text/plain": [
       "<Figure size 800x400 with 1 Axes>"
      ]
     },
     "metadata": {},
     "output_type": "display_data"
    }
   ],
   "source": [
    "# Plot the data\n",
    "plt.figure(figsize=(8, 4))\n",
    "plt.plot(dataframe['generation'], dataframe['fitness'], marker='o')\n",
    "\n",
    "# Add titles and labels\n",
    "plt.title('Evolution Process')\n",
    "plt.xlabel('Generation')\n",
    "plt.ylabel('Fitness')\n",
    "\n",
    "# Show the plot\n",
    "plt.grid(True)\n",
    "plt.show()"
   ]
  },
  {
   "cell_type": "code",
   "execution_count": null,
   "metadata": {},
   "outputs": [],
   "source": []
  }
 ],
 "metadata": {
  "kernelspec": {
   "display_name": "Python",
   "language": "python",
   "name": "python3"
  },
  "language_info": {
   "codemirror_mode": {
    "name": "ipython",
    "version": 3
   },
   "file_extension": ".py",
   "mimetype": "text/x-python",
   "name": "python",
   "nbconvert_exporter": "python",
   "pygments_lexer": "ipython3",
   "version": "3.11.4"
  }
 },
 "nbformat": 4,
 "nbformat_minor": 2
}
